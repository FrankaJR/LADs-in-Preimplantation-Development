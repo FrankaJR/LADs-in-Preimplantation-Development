{
 "cells": [
  {
   "cell_type": "code",
   "execution_count": 1,
   "id": "95f5ce71",
   "metadata": {},
   "outputs": [],
   "source": [
    "import pandas as pd\n",
    "import numpy as np\n",
    "import seaborn as sns\n",
    "import matplotlib.pyplot as plt"
   ]
  },
  {
   "cell_type": "code",
   "execution_count": 2,
   "id": "ad347469",
   "metadata": {},
   "outputs": [],
   "source": [
    "import matplotlib as mpl\n",
    "mpl.rcParams['pdf.fonttype'] = 42\n",
    "\n",
    "FIGOUTDIR = '../output/figures/6_Preimplantation.EED_mKO_experiments.part9.Viability_assay_plot/'"
   ]
  },
  {
   "cell_type": "code",
   "execution_count": 3,
   "id": "0c83500f",
   "metadata": {},
   "outputs": [],
   "source": [
    "! mkdir -p $FIGOUTDIR || true;"
   ]
  },
  {
   "cell_type": "code",
   "execution_count": 4,
   "id": "3aa71674",
   "metadata": {},
   "outputs": [],
   "source": [
    "fn = '../../Viability_assay.tsv'\n",
    "df = pd.read_table(fn).set_index('treatment')\n",
    "df = df.T"
   ]
  },
  {
   "cell_type": "code",
   "execution_count": 5,
   "id": "ca0c5adc",
   "metadata": {},
   "outputs": [
    {
     "data": {
      "text/html": [
       "<div>\n",
       "<style scoped>\n",
       "    .dataframe tbody tr th:only-of-type {\n",
       "        vertical-align: middle;\n",
       "    }\n",
       "\n",
       "    .dataframe tbody tr th {\n",
       "        vertical-align: top;\n",
       "    }\n",
       "\n",
       "    .dataframe thead th {\n",
       "        text-align: right;\n",
       "    }\n",
       "</style>\n",
       "<table border=\"1\" class=\"dataframe\">\n",
       "  <thead>\n",
       "    <tr style=\"text-align: right;\">\n",
       "      <th>treatment</th>\n",
       "      <th>Lap2b</th>\n",
       "      <th>Cbx7-Lap2b</th>\n",
       "    </tr>\n",
       "  </thead>\n",
       "  <tbody>\n",
       "    <tr>\n",
       "      <th>zygote</th>\n",
       "      <td>1.000000</td>\n",
       "      <td>1.000000</td>\n",
       "    </tr>\n",
       "    <tr>\n",
       "      <th>2cell</th>\n",
       "      <td>0.830769</td>\n",
       "      <td>0.880597</td>\n",
       "    </tr>\n",
       "    <tr>\n",
       "      <th>8cell</th>\n",
       "      <td>0.707692</td>\n",
       "      <td>0.835821</td>\n",
       "    </tr>\n",
       "    <tr>\n",
       "      <th>morula</th>\n",
       "      <td>0.692308</td>\n",
       "      <td>0.746269</td>\n",
       "    </tr>\n",
       "    <tr>\n",
       "      <th>blastocyst</th>\n",
       "      <td>0.538462</td>\n",
       "      <td>0.522388</td>\n",
       "    </tr>\n",
       "  </tbody>\n",
       "</table>\n",
       "</div>"
      ],
      "text/plain": [
       "treatment      Lap2b  Cbx7-Lap2b\n",
       "zygote      1.000000    1.000000\n",
       "2cell       0.830769    0.880597\n",
       "8cell       0.707692    0.835821\n",
       "morula      0.692308    0.746269\n",
       "blastocyst  0.538462    0.522388"
      ]
     },
     "execution_count": 5,
     "metadata": {},
     "output_type": "execute_result"
    }
   ],
   "source": [
    "df"
   ]
  },
  {
   "cell_type": "code",
   "execution_count": 6,
   "id": "b0eb2f9b",
   "metadata": {},
   "outputs": [
    {
     "data": {
      "image/png": "[encoded data removed]",
      "text/plain": [
       "<Figure size 288x144 with 1 Axes>"
      ]
     },
     "metadata": {
      "needs_background": "light"
     },
     "output_type": "display_data"
    }
   ],
   "source": [
    "fig, ax = plt.subplots(figsize=(4,2))\n",
    "for treatment in ['Lap2b', 'Cbx7-Lap2b']:\n",
    "    c = {'Lap2b': 'grey', 'Cbx7-Lap2b': 'black'}[treatment]\n",
    "    ax.plot(df[treatment], 'o-', label=treatment, color=c)\n",
    "ax.set_ylabel('% of embryos')\n",
    "ax.set_title('Viability assay')\n",
    "ax.legend(loc='upper right')\n",
    "\n",
    "outfn = FIGOUTDIR + 'viability_assay_plot.all_stages.pdf'\n",
    "plt.savefig(outfn, bbox_inches='tight')"
   ]
  },
  {
   "cell_type": "code",
   "execution_count": 7,
   "id": "d1f1b280",
   "metadata": {},
   "outputs": [
    {
     "data": {
      "image/png": "[encoded data removed]",
      "text/plain": [
       "<Figure size 144x144 with 1 Axes>"
      ]
     },
     "metadata": {
      "needs_background": "light"
     },
     "output_type": "display_data"
    }
   ],
   "source": [
    "fig, ax = plt.subplots(figsize=(2,2))\n",
    "tmp = df.T['blastocyst'].reset_index()\n",
    "sns.barplot(\n",
    "    x=tmp['treatment'], y=tmp['blastocyst'], hue=tmp['treatment'], dodge=False,\n",
    "    ax=ax, palette={'Lap2b': 'grey', 'Cbx7-Lap2b': 'black'})\n",
    "ax.set_ylim(0,1)\n",
    "ax.set_ylabel('% embryos')\n",
    "ax.set_title('Viability up to blastocyst')\n",
    "outfn = FIGOUTDIR + 'viability_assay_plot.blastocyst.pdf'\n",
    "plt.savefig(outfn, bbox_inches='tight')"
   ]
  },
  {
   "cell_type": "code",
   "execution_count": null,
   "id": "bd5be587",
   "metadata": {},
   "outputs": [],
   "source": []
  }
 ],
 "metadata": {
  "kernelspec": {
   "display_name": "Python 3 (ipykernel)",
   "language": "python",
   "name": "python3"
  },
  "language_info": {
   "codemirror_mode": {
    "name": "ipython",
    "version": 3
   },
   "file_extension": ".py",
   "mimetype": "text/x-python",
   "name": "python",
   "nbconvert_exporter": "python",
   "pygments_lexer": "ipython3",
   "version": "3.8.10"
  }
 },
 "nbformat": 4,
 "nbformat_minor": 5
}
